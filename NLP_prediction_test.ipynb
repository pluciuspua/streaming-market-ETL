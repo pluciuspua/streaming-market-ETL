{
 "cells": [
  {
   "metadata": {},
   "cell_type": "raw",
   "source": "This notebook is for testing NLP prediction models that will eventyually be used in the main project.",
   "id": "17ef681fbe810254"
  },
  {
   "metadata": {
    "ExecuteTime": {
     "end_time": "2025-09-15T06:30:28.963211Z",
     "start_time": "2025-09-15T06:30:28.944424Z"
    }
   },
   "cell_type": "code",
   "source": [
    "import json\n",
    "import nltk\n",
    "import pprint\n",
    "import time\n",
    "nltk.download('vader_lexicon')"
   ],
   "id": "b12c9ae0ef2211b7",
   "outputs": [
    {
     "name": "stderr",
     "output_type": "stream",
     "text": [
      "[nltk_data] Downloading package vader_lexicon to\n",
      "[nltk_data]     C:\\Users\\Lucius\\AppData\\Roaming\\nltk_data...\n",
      "[nltk_data]   Package vader_lexicon is already up-to-date!\n"
     ]
    },
    {
     "data": {
      "text/plain": [
       "True"
      ]
     },
     "execution_count": 7,
     "metadata": {},
     "output_type": "execute_result"
    }
   ],
   "execution_count": 7
  },
  {
   "metadata": {
    "ExecuteTime": {
     "end_time": "2025-09-15T06:30:30.527339Z",
     "start_time": "2025-09-15T06:30:30.511289Z"
    }
   },
   "cell_type": "code",
   "source": [
    "#Load Data\n",
    "with open(\"test_news_data.json\") as json_file:\n",
    "    data = json.load(json_file)\n",
    "    articles = data[\"feed\"]\n",
    "    texts = [article[\"summary\"] for article in articles]\n",
    "    pprint.pprint(texts)"
   ],
   "id": "e17a6575522f8687",
   "outputs": [
    {
     "name": "stdout",
     "output_type": "stream",
     "text": [
      "['Apple Inc. AAPL saw its entry-level iPhone 17 model dominate pre-orders on '\n",
      " \"China's JD.com platform, with the 256GB configuration receiving the most \"\n",
      " 'orders among all new iPhone models after pre-orders launched on Friday. '\n",
      " 'Check out the current price of AAPL stock here.',\n",
      " \"Apple Inc.'s AAPL iPhone 17 launch appears to be gaining momentum, with \"\n",
      " \"analyst Gene Munster noting that pre-orders on China's JD.com Inc. JD have \"\n",
      " \"surpassed last year's iPhone 16 levels, excluding the delayed iPhone Air \"\n",
      " 'model.',\n",
      " 'Apple doubles down on design innovation amid team shakeup, introducing '\n",
      " \"'Liquid Glass' language. Design veteran Jeff Williams steps back as Apple's \"\n",
      " \"new guard takes the helm of aesthetics. Up Next: Wall Street trader's 34-0 \"\n",
      " 'strategy goes public this week. See it first →',\n",
      " 'Without a big overhang of uncertainty, these two stocks are free to keep '\n",
      " 'climbing higher.',\n",
      " 'Each of these stocks has a long growth runway.',\n",
      " 'Fed cut bets lifted stocks even as August inflation hit 2.9% and jobless '\n",
      " 'claims rose to 263k. Earnings mixed: Adobe beat, Oracle lagged; Apple '\n",
      " 'underwhelmed as Microsoft pushed in-house AI chips. Want to trade this news? '\n",
      " 'Get access to the 34-0 income strategy that loves volatility →',\n",
      " 'The past week has been a whirlwind of tech news, with major players like '\n",
      " 'Palantir Technologies, Intel Corp, and Apple Inc. making headlines. From '\n",
      " 'concerns over government equity stakes to new health features on '\n",
      " 'smartwatches, the tech industry continues to evolve and surprise.',\n",
      " 'Alphabet and TSMC have a lot of potential upside ahead.',\n",
      " 'Oracle has delivered so far, but its new promises are in another league.']\n"
     ]
    }
   ],
   "execution_count": 8
  },
  {
   "metadata": {
    "ExecuteTime": {
     "end_time": "2025-09-15T06:30:32.111410Z",
     "start_time": "2025-09-15T06:30:32.086030Z"
    }
   },
   "cell_type": "code",
   "source": [
    "gfrom nltk.sentiment.vader import SentimentIntensityAnalyzer\n",
    "analyzer = SentimentIntensityAnalyzer()\n",
    "\n",
    "results = []\n",
    "time_start = time.time()\n",
    "for text in texts:\n",
    "    r = {\n",
    "        \"text\": text,\n",
    "    }\n",
    "    score = analyzer.polarity_scores(text)\n",
    "    r[\"sentiment_score\"] = score[\"compound\"]\n",
    "    r[\"sentiment_label\"] = (\n",
    "            \"POSITIVE\" if score[\"compound\"] > 0.05\n",
    "            else \"NEGATIVE\" if score[\"compound\"] < -0.05\n",
    "            else \"NEUTRAL\"\n",
    "        )\n",
    "    results.append(r)\n",
    "time_end = time.time()\n",
    "print(f\"Time taken: {time_end - time_start} seconds\")\n",
    "pprint.pprint(results)"
   ],
   "id": "aa32211f88a14846",
   "outputs": [
    {
     "name": "stdout",
     "output_type": "stream",
     "text": [
      "Time taken: 0.0021355152130126953 seconds\n",
      "[{'sentiment_label': 'NEUTRAL',\n",
      "  'sentiment_score': 0.0,\n",
      "  'text': 'Apple Inc. AAPL saw its entry-level iPhone 17 model dominate '\n",
      "          \"pre-orders on China's JD.com platform, with the 256GB configuration \"\n",
      "          'receiving the most orders among all new iPhone models after '\n",
      "          'pre-orders launched on Friday. Check out the current price of AAPL '\n",
      "          'stock here.'},\n",
      " {'sentiment_label': 'POSITIVE',\n",
      "  'sentiment_score': 0.2263,\n",
      "  'text': \"Apple Inc.'s AAPL iPhone 17 launch appears to be gaining momentum, \"\n",
      "          \"with analyst Gene Munster noting that pre-orders on China's JD.com \"\n",
      "          \"Inc. JD have surpassed last year's iPhone 16 levels, excluding the \"\n",
      "          'delayed iPhone Air model.'},\n",
      " {'sentiment_label': 'POSITIVE',\n",
      "  'sentiment_score': 0.25,\n",
      "  'text': 'Apple doubles down on design innovation amid team shakeup, '\n",
      "          \"introducing 'Liquid Glass' language. Design veteran Jeff Williams \"\n",
      "          \"steps back as Apple's new guard takes the helm of aesthetics. Up \"\n",
      "          \"Next: Wall Street trader's 34-0 strategy goes public this week. See \"\n",
      "          'it first →'},\n",
      " {'sentiment_label': 'POSITIVE',\n",
      "  'sentiment_score': 0.2263,\n",
      "  'text': 'Without a big overhang of uncertainty, these two stocks are free to '\n",
      "          'keep climbing higher.'},\n",
      " {'sentiment_label': 'POSITIVE',\n",
      "  'sentiment_score': 0.3818,\n",
      "  'text': 'Each of these stocks has a long growth runway.'},\n",
      " {'sentiment_label': 'POSITIVE',\n",
      "  'sentiment_score': 0.1779,\n",
      "  'text': 'Fed cut bets lifted stocks even as August inflation hit 2.9% and '\n",
      "          'jobless claims rose to 263k. Earnings mixed: Adobe beat, Oracle '\n",
      "          'lagged; Apple underwhelmed as Microsoft pushed in-house AI chips. '\n",
      "          'Want to trade this news? Get access to the 34-0 income strategy '\n",
      "          'that loves volatility →'},\n",
      " {'sentiment_label': 'POSITIVE',\n",
      "  'sentiment_score': 0.5574,\n",
      "  'text': 'The past week has been a whirlwind of tech news, with major players '\n",
      "          'like Palantir Technologies, Intel Corp, and Apple Inc. making '\n",
      "          'headlines. From concerns over government equity stakes to new '\n",
      "          'health features on smartwatches, the tech industry continues to '\n",
      "          'evolve and surprise.'},\n",
      " {'sentiment_label': 'NEUTRAL',\n",
      "  'sentiment_score': 0.0,\n",
      "  'text': 'Alphabet and TSMC have a lot of potential upside ahead.'},\n",
      " {'sentiment_label': 'POSITIVE',\n",
      "  'sentiment_score': 0.5267,\n",
      "  'text': 'Oracle has delivered so far, but its new promises are in another '\n",
      "          'league.'}]\n"
     ]
    }
   ],
   "execution_count": 9
  },
  {
   "metadata": {
    "ExecuteTime": {
     "end_time": "2025-09-15T06:29:56.569992Z",
     "start_time": "2025-09-15T06:29:56.555980Z"
    }
   },
   "cell_type": "code",
   "source": "",
   "id": "deac72f5878d635",
   "outputs": [],
   "execution_count": null
  },
  {
   "metadata": {},
   "cell_type": "code",
   "outputs": [],
   "execution_count": null,
   "source": "",
   "id": "61df8eb913fd0054"
  }
 ],
 "metadata": {},
 "nbformat": 4,
 "nbformat_minor": 5
}
